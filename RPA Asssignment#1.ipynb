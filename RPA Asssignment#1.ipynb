{
 "cells": [
  {
   "cell_type": "markdown",
   "id": "7b13000d",
   "metadata": {},
   "source": [
    "# Task\n",
    "- Take input of 5 subjects marks and print every subject marks\n",
    "- calculate percentage of them and print it\n",
    "- show the grade A+ if percentage more than 80\n",
    "  grade A if percentage more than 70\n",
    "  grade B if percentage more than 60\n",
    "  grade C if percentage more than 50\n",
    "  grade D if percentage more than 40\n",
    "  show fail if percentage less than 40"
   ]
  },
  {
   "cell_type": "code",
   "execution_count": 13,
   "id": "74ac19b6",
   "metadata": {},
   "outputs": [
    {
     "name": "stdout",
     "output_type": "stream",
     "text": [
      "Subject 1 Marks: 90\n",
      "Subject 2 Marks: 1\n",
      "Subject 3 Marks: 3\n",
      "Subject 4 Marks: 4\n",
      "Subject 5 Marks: 90\n",
      "Subject 1 Marks: 90\n",
      "Subject 2 Marks: 1\n",
      "Subject 3 Marks: 3\n",
      "Subject 4 Marks: 4\n",
      "Subject 5 Marks: 90\n",
      "37.6\n",
      "Grade: Fail\n"
     ]
    }
   ],
   "source": [
    "sub1 = input(\"Subject 1 Marks: \")\n",
    "sub2 = input(\"Subject 2 Marks: \")\n",
    "sub3 = input(\"Subject 3 Marks: \")\n",
    "sub4 = input(\"Subject 4 Marks: \")\n",
    "sub5 = input(\"Subject 5 Marks: \")\n",
    "\n",
    "print(\"Subject 1 Marks: \" + sub1)\n",
    "print(\"Subject 2 Marks: \" + sub2)\n",
    "print(\"Subject 3 Marks: \" + sub3)\n",
    "print(\"Subject 4 Marks: \" + sub4)\n",
    "print(\"Subject 5 Marks: \" + sub5)\n",
    "\n",
    "sub1 = int(sub1)\n",
    "sub2 = int(sub2)\n",
    "sub3 = int(sub3)\n",
    "sub4 = int(sub4)\n",
    "sub5 = int(sub5)\n",
    "\n",
    "percent = (sub1 + sub2 +sub3 + sub4 + sub5)/5\n",
    "\n",
    "print(percent)\n",
    "\n",
    "if percent >= 80:\n",
    "    Grade = \"A+\"\n",
    "elif percent >= 70 and percent < 80:\n",
    "    Grade = \"A\"\n",
    "elif percent >= 60 and percent < 70:\n",
    "    Grade = \"B\"\n",
    "elif percent >= 50 and percent < 60:\n",
    "    Grade = \"C\"\n",
    "elif percent >= 40 and percent < 500:\n",
    "    Grade = \"D\"\n",
    "elif percent < 40:\n",
    "    Grade = \"Fail\"\n",
    "\n",
    "print(\"Grade: \" + Grade)"
   ]
  },
  {
   "cell_type": "code",
   "execution_count": null,
   "id": "c385b5ec",
   "metadata": {},
   "outputs": [],
   "source": []
  }
 ],
 "metadata": {
  "kernelspec": {
   "display_name": "Python 3 (ipykernel)",
   "language": "python",
   "name": "python3"
  },
  "language_info": {
   "codemirror_mode": {
    "name": "ipython",
    "version": 3
   },
   "file_extension": ".py",
   "mimetype": "text/x-python",
   "name": "python",
   "nbconvert_exporter": "python",
   "pygments_lexer": "ipython3",
   "version": "3.9.7"
  }
 },
 "nbformat": 4,
 "nbformat_minor": 5
}
