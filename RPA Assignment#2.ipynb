{
 "cells": [
  {
   "cell_type": "code",
   "execution_count": 23,
   "id": "108b863e",
   "metadata": {},
   "outputs": [],
   "source": [
    "#code to reset record\n",
    "gymdict = []"
   ]
  },
  {
   "cell_type": "code",
   "execution_count": 32,
   "id": "dde11d1b",
   "metadata": {},
   "outputs": [
    {
     "name": "stdout",
     "output_type": "stream",
     "text": [
      "We have monthly fees of Rs 3000\n",
      "Enter first name: Abdul\n",
      "Enter last name: Shayan\n",
      "Enter your age: 13\n",
      "Choose Package for more detail.\n",
      "['golden', 'silver', 'bronze', 'no package']golden\n",
      "This package contains of 18 months at discount of 30% per month but requires advance.\n",
      "Want to countinue with this package? yes\n",
      "total: 37800.0 Original Price: 54000 Discount: 16200.0 package: golden\n"
     ]
    }
   ],
   "source": [
    "#code for customer registeration\n",
    "\n",
    "packages = ['golden','silver','bronze','no package']\n",
    "new_custumer = {}\n",
    "\n",
    "print('We have monthly fees of Rs 3000')\n",
    "first_name = input('Enter first name: ')\n",
    "last_name = input('Enter last name: ')\n",
    "age = input('Enter your age: ')\n",
    "\n",
    "new_custumer['first name'] = first_name\n",
    "new_custumer['last name'] = last_name\n",
    "new_custumer['age'] = age\n",
    "\n",
    "while True:\n",
    "    print('Choose Package for more detail.')\n",
    "    package = input(packages)\n",
    "\n",
    "    if package not in packages:\n",
    "        print('try again!')\n",
    "    elif package == 'golden':\n",
    "        print('This package contains of 18 months at discount of 30% per month but requires advance.')\n",
    "        yes_no = input('Want to countinue with this package? ')\n",
    "        if yes_no.lower() == 'yes':\n",
    "            new_custumer['package'] = 'golden'\n",
    "            months = 18\n",
    "            original = (3000 * months)\n",
    "            discount = 0.3 * original\n",
    "            total = original - discount\n",
    "            print('total: ' + str(total),'Original Price: ' + str(original), 'Discount: ' + str(discount), 'package: ' + package)\n",
    "            break\n",
    "        else:\n",
    "            print('ok')\n",
    "    elif package == 'silver':\n",
    "        print('This package contains of 12 months at discount of 20% per month but requires advance.')\n",
    "        yes_no = input('Want to countinue with this package? ')\n",
    "        if yes_no.lower() == 'yes':\n",
    "            new_custumer['package'] = 'silver'\n",
    "            months = 12\n",
    "            original = (3000 * months)\n",
    "            discount = 0.2 * original\n",
    "            total = original - discount\n",
    "            print('total: ' + str(total),'Original Price: ' + str(original), 'Discount: ' + str(discount), 'package: ' + package)\n",
    "            break\n",
    "        else:\n",
    "            print('ok')\n",
    "    elif package == 'bronze':\n",
    "        print('This package contains of 6 months at discount of 10% per month but requires advance.')\n",
    "        yes_no = input('Want to countinue with this package? ')\n",
    "        if yes_no.lower() == 'yes':\n",
    "            new_custumer['package'] = 'bronze'\n",
    "            months = 6\n",
    "            original = (3000 * months)\n",
    "            discount = 0.1 * original\n",
    "            total = original - discount\n",
    "            print('total: ' + str(total),'Original Price: ' + str(original), 'Discount: ' + str(discount), 'package: ' + package)\n",
    "            break\n",
    "        else:\n",
    "            print('ok')\n",
    "    else:\n",
    "        print('This package contains of 1 month at no discount choose other packages for more discount.')\n",
    "        yes_no = input('Want to countinue with this package? ')\n",
    "        if yes_no.lower() == 'yes':\n",
    "            new_custumer['package'] = 'no package'\n",
    "            months = 1\n",
    "            original = (3000 * months)\n",
    "            discount = 0 * original\n",
    "            total = original - discount\n",
    "            print('total: ' + str(total),'Original Price: ' + str(original), 'Discount: ' + str(discount), 'package: ' + package)\n",
    "            break\n",
    "        else:\n",
    "            print('ok')\n",
    "\n",
    "gymdict.append(new_custumer)"
   ]
  },
  {
   "cell_type": "code",
   "execution_count": 33,
   "id": "059a9ef8",
   "metadata": {},
   "outputs": [
    {
     "name": "stdout",
     "output_type": "stream",
     "text": [
      "first name : Ali\n",
      "last name : Asif\n",
      "age : 14\n",
      "package : bronze\n",
      "\n",
      "first name : Abdul\n",
      "last name : Hadi\n",
      "age : 14\n",
      "package : golden\n",
      "\n",
      "first name : Abdul\n",
      "last name : Samad\n",
      "age : 18\n",
      "package : no package\n",
      "\n",
      "first name : Abdullah\n",
      "last name : Raza\n",
      "age : 19\n",
      "package : silver\n",
      "\n",
      "first name : Abdul\n",
      "last name : Shayan\n",
      "age : 13\n",
      "package : golden\n",
      "\n"
     ]
    }
   ],
   "source": [
    "#To check registered people\n",
    "for x in gymdict:\n",
    "    for key,value in x.items():\n",
    "        print(key,':',value)\n",
    "    print('')"
   ]
  },
  {
   "cell_type": "code",
   "execution_count": null,
   "id": "0dc97f8d",
   "metadata": {},
   "outputs": [],
   "source": []
  }
 ],
 "metadata": {
  "kernelspec": {
   "display_name": "Python 3 (ipykernel)",
   "language": "python",
   "name": "python3"
  },
  "language_info": {
   "codemirror_mode": {
    "name": "ipython",
    "version": 3
   },
   "file_extension": ".py",
   "mimetype": "text/x-python",
   "name": "python",
   "nbconvert_exporter": "python",
   "pygments_lexer": "ipython3",
   "version": "3.9.7"
  }
 },
 "nbformat": 4,
 "nbformat_minor": 5
}
